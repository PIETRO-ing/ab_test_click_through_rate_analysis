{
 "cells": [
  {
   "cell_type": "markdown",
   "id": "903184e4",
   "metadata": {},
   "source": [
    "# A/B Test Click-Through Rate Analysis"
   ]
  },
  {
   "cell_type": "markdown",
   "id": "10cd0c58",
   "metadata": {},
   "source": [
    "### Is the difference between this two click rates real or it have happened just by chance? \n",
    "\n",
    "$$\n",
    "\\begin{cases}\n",
    "H_0: p_{con} = p_{exp} \\\\\n",
    "H_1: p_{con} \\ne p_{exp}\n",
    "\\end{cases}\n",
    "$$"
   ]
  },
  {
   "cell_type": "markdown",
   "id": "56f95fab",
   "metadata": {},
   "source": [
    "---\n",
    "\n",
    "## Loading and Cleaning our Data for AB Test"
   ]
  },
  {
   "cell_type": "code",
   "execution_count": 1,
   "id": "e8d24ba9",
   "metadata": {},
   "outputs": [],
   "source": [
    "import numpy as np\n",
    "import pandas as pd\n",
    "import matplotlib.pyplot as plt\n",
    "import seaborn as sns\n",
    "from scipy.stats import norm"
   ]
  },
  {
   "cell_type": "code",
   "execution_count": 2,
   "id": "83ae9c81",
   "metadata": {},
   "outputs": [
    {
     "data": {
      "text/html": [
       "<div>\n",
       "<style scoped>\n",
       "    .dataframe tbody tr th:only-of-type {\n",
       "        vertical-align: middle;\n",
       "    }\n",
       "\n",
       "    .dataframe tbody tr th {\n",
       "        vertical-align: top;\n",
       "    }\n",
       "\n",
       "    .dataframe thead th {\n",
       "        text-align: right;\n",
       "    }\n",
       "</style>\n",
       "<table border=\"1\" class=\"dataframe\">\n",
       "  <thead>\n",
       "    <tr style=\"text-align: right;\">\n",
       "      <th></th>\n",
       "      <th>user_id</th>\n",
       "      <th>click</th>\n",
       "      <th>group</th>\n",
       "      <th>timestamp</th>\n",
       "    </tr>\n",
       "  </thead>\n",
       "  <tbody>\n",
       "    <tr>\n",
       "      <th>0</th>\n",
       "      <td>1</td>\n",
       "      <td>1</td>\n",
       "      <td>exp</td>\n",
       "      <td>2024-01-01 00:00:00</td>\n",
       "    </tr>\n",
       "    <tr>\n",
       "      <th>1</th>\n",
       "      <td>2</td>\n",
       "      <td>0</td>\n",
       "      <td>exp</td>\n",
       "      <td>2024-01-01 00:01:00</td>\n",
       "    </tr>\n",
       "    <tr>\n",
       "      <th>2</th>\n",
       "      <td>3</td>\n",
       "      <td>1</td>\n",
       "      <td>exp</td>\n",
       "      <td>2024-01-01 00:02:00</td>\n",
       "    </tr>\n",
       "    <tr>\n",
       "      <th>3</th>\n",
       "      <td>4</td>\n",
       "      <td>0</td>\n",
       "      <td>exp</td>\n",
       "      <td>2024-01-01 00:03:00</td>\n",
       "    </tr>\n",
       "    <tr>\n",
       "      <th>4</th>\n",
       "      <td>5</td>\n",
       "      <td>1</td>\n",
       "      <td>exp</td>\n",
       "      <td>2024-01-01 00:04:00</td>\n",
       "    </tr>\n",
       "    <tr>\n",
       "      <th>...</th>\n",
       "      <td>...</td>\n",
       "      <td>...</td>\n",
       "      <td>...</td>\n",
       "      <td>...</td>\n",
       "    </tr>\n",
       "    <tr>\n",
       "      <th>19995</th>\n",
       "      <td>19996</td>\n",
       "      <td>1</td>\n",
       "      <td>con</td>\n",
       "      <td>NaN</td>\n",
       "    </tr>\n",
       "    <tr>\n",
       "      <th>19996</th>\n",
       "      <td>19997</td>\n",
       "      <td>1</td>\n",
       "      <td>con</td>\n",
       "      <td>NaN</td>\n",
       "    </tr>\n",
       "    <tr>\n",
       "      <th>19997</th>\n",
       "      <td>19998</td>\n",
       "      <td>1</td>\n",
       "      <td>con</td>\n",
       "      <td>NaN</td>\n",
       "    </tr>\n",
       "    <tr>\n",
       "      <th>19998</th>\n",
       "      <td>19999</td>\n",
       "      <td>0</td>\n",
       "      <td>con</td>\n",
       "      <td>NaN</td>\n",
       "    </tr>\n",
       "    <tr>\n",
       "      <th>19999</th>\n",
       "      <td>20000</td>\n",
       "      <td>1</td>\n",
       "      <td>con</td>\n",
       "      <td>NaN</td>\n",
       "    </tr>\n",
       "  </tbody>\n",
       "</table>\n",
       "<p>20000 rows × 4 columns</p>\n",
       "</div>"
      ],
      "text/plain": [
       "       user_id  click group            timestamp\n",
       "0            1      1   exp  2024-01-01 00:00:00\n",
       "1            2      0   exp  2024-01-01 00:01:00\n",
       "2            3      1   exp  2024-01-01 00:02:00\n",
       "3            4      0   exp  2024-01-01 00:03:00\n",
       "4            5      1   exp  2024-01-01 00:04:00\n",
       "...        ...    ...   ...                  ...\n",
       "19995    19996      1   con                  NaN\n",
       "19996    19997      1   con                  NaN\n",
       "19997    19998      1   con                  NaN\n",
       "19998    19999      0   con                  NaN\n",
       "19999    20000      1   con                  NaN\n",
       "\n",
       "[20000 rows x 4 columns]"
      ]
     },
     "execution_count": 2,
     "metadata": {},
     "output_type": "execute_result"
    }
   ],
   "source": [
    "# Load the data\n",
    "df = pd.read_csv('ab_test_data.csv')\n",
    "df"
   ]
  },
  {
   "cell_type": "code",
   "execution_count": 3,
   "id": "e17e17dd",
   "metadata": {},
   "outputs": [
    {
     "data": {
      "text/plain": [
       "(20000, 4)"
      ]
     },
     "execution_count": 3,
     "metadata": {},
     "output_type": "execute_result"
    }
   ],
   "source": [
    "# Chaek the shape (row, column)\n",
    "df.shape"
   ]
  },
  {
   "cell_type": "code",
   "execution_count": 4,
   "id": "0d68c169",
   "metadata": {},
   "outputs": [
    {
     "data": {
      "text/plain": [
       "user_id          0\n",
       "click            0\n",
       "group            0\n",
       "timestamp    10000\n",
       "dtype: int64"
      ]
     },
     "execution_count": 4,
     "metadata": {},
     "output_type": "execute_result"
    }
   ],
   "source": [
    "# Check exactly where the missing values are and how much of them\n",
    "df.isna().sum()"
   ]
  },
  {
   "cell_type": "code",
   "execution_count": 5,
   "id": "d57ebcbc",
   "metadata": {},
   "outputs": [
    {
     "data": {
      "text/html": [
       "<div>\n",
       "<style scoped>\n",
       "    .dataframe tbody tr th:only-of-type {\n",
       "        vertical-align: middle;\n",
       "    }\n",
       "\n",
       "    .dataframe tbody tr th {\n",
       "        vertical-align: top;\n",
       "    }\n",
       "\n",
       "    .dataframe thead th {\n",
       "        text-align: right;\n",
       "    }\n",
       "</style>\n",
       "<table border=\"1\" class=\"dataframe\">\n",
       "  <thead>\n",
       "    <tr style=\"text-align: right;\">\n",
       "      <th></th>\n",
       "      <th>user_id</th>\n",
       "      <th>click</th>\n",
       "    </tr>\n",
       "  </thead>\n",
       "  <tbody>\n",
       "    <tr>\n",
       "      <th>count</th>\n",
       "      <td>20000.000000</td>\n",
       "      <td>20000.000000</td>\n",
       "    </tr>\n",
       "    <tr>\n",
       "      <th>mean</th>\n",
       "      <td>10000.500000</td>\n",
       "      <td>0.405250</td>\n",
       "    </tr>\n",
       "    <tr>\n",
       "      <th>std</th>\n",
       "      <td>5773.647028</td>\n",
       "      <td>0.490953</td>\n",
       "    </tr>\n",
       "    <tr>\n",
       "      <th>min</th>\n",
       "      <td>1.000000</td>\n",
       "      <td>0.000000</td>\n",
       "    </tr>\n",
       "    <tr>\n",
       "      <th>25%</th>\n",
       "      <td>5000.750000</td>\n",
       "      <td>0.000000</td>\n",
       "    </tr>\n",
       "    <tr>\n",
       "      <th>50%</th>\n",
       "      <td>10000.500000</td>\n",
       "      <td>0.000000</td>\n",
       "    </tr>\n",
       "    <tr>\n",
       "      <th>75%</th>\n",
       "      <td>15000.250000</td>\n",
       "      <td>1.000000</td>\n",
       "    </tr>\n",
       "    <tr>\n",
       "      <th>max</th>\n",
       "      <td>20000.000000</td>\n",
       "      <td>1.000000</td>\n",
       "    </tr>\n",
       "  </tbody>\n",
       "</table>\n",
       "</div>"
      ],
      "text/plain": [
       "            user_id         click\n",
       "count  20000.000000  20000.000000\n",
       "mean   10000.500000      0.405250\n",
       "std     5773.647028      0.490953\n",
       "min        1.000000      0.000000\n",
       "25%     5000.750000      0.000000\n",
       "50%    10000.500000      0.000000\n",
       "75%    15000.250000      1.000000\n",
       "max    20000.000000      1.000000"
      ]
     },
     "execution_count": 5,
     "metadata": {},
     "output_type": "execute_result"
    }
   ],
   "source": [
    "# Details from numerical column\n",
    "df.describe()"
   ]
  },
  {
   "cell_type": "code",
   "execution_count": 6,
   "id": "4aa9c223",
   "metadata": {},
   "outputs": [
    {
     "data": {
      "text/plain": [
       "Index(['user_id', 'click', 'group', 'timestamp'], dtype='object')"
      ]
     },
     "execution_count": 6,
     "metadata": {},
     "output_type": "execute_result"
    }
   ],
   "source": [
    "# Check the columns\n",
    "df.columns"
   ]
  },
  {
   "cell_type": "code",
   "execution_count": 7,
   "id": "2334ac3e",
   "metadata": {},
   "outputs": [
    {
     "data": {
      "text/html": [
       "<div>\n",
       "<style scoped>\n",
       "    .dataframe tbody tr th:only-of-type {\n",
       "        vertical-align: middle;\n",
       "    }\n",
       "\n",
       "    .dataframe tbody tr th {\n",
       "        vertical-align: top;\n",
       "    }\n",
       "\n",
       "    .dataframe thead th {\n",
       "        text-align: right;\n",
       "    }\n",
       "</style>\n",
       "<table border=\"1\" class=\"dataframe\">\n",
       "  <thead>\n",
       "    <tr style=\"text-align: right;\">\n",
       "      <th></th>\n",
       "      <th>user_id</th>\n",
       "      <th>click</th>\n",
       "      <th>group</th>\n",
       "    </tr>\n",
       "  </thead>\n",
       "  <tbody>\n",
       "    <tr>\n",
       "      <th>0</th>\n",
       "      <td>1</td>\n",
       "      <td>1</td>\n",
       "      <td>exp</td>\n",
       "    </tr>\n",
       "    <tr>\n",
       "      <th>1</th>\n",
       "      <td>2</td>\n",
       "      <td>0</td>\n",
       "      <td>exp</td>\n",
       "    </tr>\n",
       "    <tr>\n",
       "      <th>2</th>\n",
       "      <td>3</td>\n",
       "      <td>1</td>\n",
       "      <td>exp</td>\n",
       "    </tr>\n",
       "    <tr>\n",
       "      <th>3</th>\n",
       "      <td>4</td>\n",
       "      <td>0</td>\n",
       "      <td>exp</td>\n",
       "    </tr>\n",
       "    <tr>\n",
       "      <th>4</th>\n",
       "      <td>5</td>\n",
       "      <td>1</td>\n",
       "      <td>exp</td>\n",
       "    </tr>\n",
       "    <tr>\n",
       "      <th>...</th>\n",
       "      <td>...</td>\n",
       "      <td>...</td>\n",
       "      <td>...</td>\n",
       "    </tr>\n",
       "    <tr>\n",
       "      <th>19995</th>\n",
       "      <td>19996</td>\n",
       "      <td>1</td>\n",
       "      <td>con</td>\n",
       "    </tr>\n",
       "    <tr>\n",
       "      <th>19996</th>\n",
       "      <td>19997</td>\n",
       "      <td>1</td>\n",
       "      <td>con</td>\n",
       "    </tr>\n",
       "    <tr>\n",
       "      <th>19997</th>\n",
       "      <td>19998</td>\n",
       "      <td>1</td>\n",
       "      <td>con</td>\n",
       "    </tr>\n",
       "    <tr>\n",
       "      <th>19998</th>\n",
       "      <td>19999</td>\n",
       "      <td>0</td>\n",
       "      <td>con</td>\n",
       "    </tr>\n",
       "    <tr>\n",
       "      <th>19999</th>\n",
       "      <td>20000</td>\n",
       "      <td>1</td>\n",
       "      <td>con</td>\n",
       "    </tr>\n",
       "  </tbody>\n",
       "</table>\n",
       "<p>20000 rows × 3 columns</p>\n",
       "</div>"
      ],
      "text/plain": [
       "       user_id  click group\n",
       "0            1      1   exp\n",
       "1            2      0   exp\n",
       "2            3      1   exp\n",
       "3            4      0   exp\n",
       "4            5      1   exp\n",
       "...        ...    ...   ...\n",
       "19995    19996      1   con\n",
       "19996    19997      1   con\n",
       "19997    19998      1   con\n",
       "19998    19999      0   con\n",
       "19999    20000      1   con\n",
       "\n",
       "[20000 rows x 3 columns]"
      ]
     },
     "execution_count": 7,
     "metadata": {},
     "output_type": "execute_result"
    }
   ],
   "source": [
    "# Clean the dataframe, dropping timestamp column\n",
    "df.drop('timestamp', axis=1, inplace=True)\n",
    "df"
   ]
  },
  {
   "cell_type": "markdown",
   "id": "44421de9",
   "metadata": {},
   "source": [
    "---\n",
    "\n",
    "## Clicks and Probability"
   ]
  },
  {
   "cell_type": "code",
   "execution_count": 8,
   "id": "f09008d4",
   "metadata": {},
   "outputs": [
    {
     "name": "stdout",
     "output_type": "stream",
     "text": [
      "group\n",
      "con    1989\n",
      "exp    6116\n",
      "Name: click, dtype: int64\n",
      "\n",
      "Number of users in Control:       10000\n",
      "Number of ursers in Experimental: 10000\n",
      "Number of Clicks in Control:       1989\n",
      "Number of Clicks in Experimental:  6116\n"
     ]
    }
   ],
   "source": [
    "# Total number of users per group\n",
    "N_con = df.group.value_counts().iloc[0].item()\n",
    "N_exp = df.group.value_counts().iloc[1].item()\n",
    "\n",
    "# Verify the number of users are the same\n",
    "assert N_con == N_exp\n",
    "\n",
    "# Total number of click per group\n",
    "X_con = df.groupby('group').sum('click').click.iloc[0].item()\n",
    "X_exp = df.groupby('group').sum('click').click.iloc[1].item()\n",
    "\n",
    "# Print\n",
    "print(df.groupby('group').sum('click').click)\n",
    "print(f'\\nNumber of users in Control:       {N_con}')\n",
    "print(f'Number of ursers in Experimental: {N_exp}')\n",
    "print(f'Number of Clicks in Control:       {X_con}')\n",
    "print(f'Number of Clicks in Experimental:  {X_exp}')\n"
   ]
  },
  {
   "cell_type": "code",
   "execution_count": 13,
   "id": "edee72f0",
   "metadata": {},
   "outputs": [
    {
     "name": "stdout",
     "output_type": "stream",
     "text": [
      "Click Probability in Control:      0.1989 → 19.9%\n",
      "Click Probability in Experimental: 0.6116 → 61.2%\n",
      "Pooled Clicked Probability:        0.40525\n"
     ]
    }
   ],
   "source": [
    "# Estimate of clicks probability per group\n",
    "p_con =  X_con/N_con\n",
    "p_exp = X_exp/N_exp\n",
    "\n",
    "# Estimate of pooled clicked probability\n",
    "p_pooled = (X_con + X_exp) / (N_con + N_exp)\n",
    "\n",
    "# Print\n",
    "print(f'Click Probability in Control:      {p_con} → {p_con*100:.1f}%')\n",
    "print(f'Click Probability in Experimental: {p_exp} → {p_exp*100:.1f}%')\n",
    "print(f'Pooled Clicked Probability:        {p_pooled}')\n"
   ]
  },
  {
   "cell_type": "code",
   "execution_count": 10,
   "id": "8dceb528",
   "metadata": {},
   "outputs": [
    {
     "data": {
      "image/png": "[encoded data removed]",
      "text/plain": [
       "<Figure size 1400x600 with 1 Axes>"
      ]
     },
     "metadata": {},
     "output_type": "display_data"
    }
   ],
   "source": [
    "# Plot\n",
    "plt.figure(figsize=(14,6))\n",
    "ax = sns.countplot(data = df, \n",
    "              x='group', \n",
    "              hue='click',\n",
    "              palette = {0: 'yellow', 1:'black'}\n",
    "              )\n",
    "\n",
    "plt.title('Click Distribution for Experimental and Control Group')\n",
    "\n",
    "# Add text on top of each bar\n",
    "for p in ax.patches:               # ax.patches = bars\n",
    "    # Get the height of each bar\n",
    "    height = p.get_height()\n",
    "    # Add text at the top of each bar\n",
    "    ax.text(p.get_x() + p.get_width() / 2, height + 170, f'{(height/N_con)*100:.1f}%', # get(x) x of left edge, N_con = N_exp = 10000\n",
    "            ha='center', va='center', fontsize=12, color='black')\n",
    "\n",
    "# Save plot\n",
    "plt.savefig('click_distribution_control_and_experimental_group.png')   \n"
   ]
  },
  {
   "cell_type": "markdown",
   "id": "081140b4",
   "metadata": {},
   "source": [
    "## Parameters of the Model for Power Analysis "
   ]
  },
  {
   "cell_type": "markdown",
   "id": "d662a3c7",
   "metadata": {},
   "source": [
    "- **β**: Probability of Type II Error\n",
    "- **(1 - β)**: Power of the test\n",
    "- **α**: Probability of Type I Error, Significance Level\n",
    "- **δ**: Minimum Detectable Effect"
   ]
  },
  {
   "cell_type": "code",
   "execution_count": 11,
   "id": "c3aca170",
   "metadata": {},
   "outputs": [
    {
     "name": "stdout",
     "output_type": "stream",
     "text": [
      "Alpha: significance level is: 0.05\n",
      "Delta: minimum detectable effect (MDE) is: 0.1\n"
     ]
    }
   ],
   "source": [
    "alpha = 0.05 # 5%\n",
    "print(\"Alpha: significance level is:\", alpha )\n",
    "\n",
    "delta = 0.1 # 10%\n",
    "print(\"Delta: minimum detectable effect (MDE) is:\", delta )"
   ]
  },
  {
   "cell_type": "markdown",
   "id": "d469cc0b",
   "metadata": {},
   "source": [
    "## Pooled Variance "
   ]
  },
  {
   "cell_type": "code",
   "execution_count": 17,
   "id": "71808c2f",
   "metadata": {},
   "outputs": [
    {
     "name": "stdout",
     "output_type": "stream",
     "text": [
      "p^_pooled, estimates clicked probability:  0.40525\n",
      "pooled_variance is:                        4.82044875e-05\n"
     ]
    }
   ],
   "source": [
    "pooled_variance = p_pooled * (1-p_pooled) * (1/N_con + 1/N_exp)\n",
    "print(\"p^_pooled, estimates clicked probability: \", p_pooled)\n",
    "print(\"pooled_variance is:                       \",pooled_variance)"
   ]
  },
  {
   "cell_type": "markdown",
   "id": "68ef810d",
   "metadata": {},
   "source": [
    "## Standard Error and Test Statistics (z-score)"
   ]
  },
  {
   "cell_type": "code",
   "execution_count": 21,
   "id": "99301dbb",
   "metadata": {},
   "outputs": [
    {
     "name": "stdout",
     "output_type": "stream",
     "text": [
      "Standard Error is:                                   0.006942945160376826\n",
      "Test Statistics (z_score) for 2-sample Z-test is:    59.44163326469381\n",
      "Z-critical value from Standard Normal distribution:  1.959963984540054\n",
      "\n",
      "The critical value of 1.96, sets the threshold for deciding wheter a result is statistically significant.\n",
      "\n",
      "If the z_score (test score) goes beyond that line, the result is unlikely to have happened by chance: the null hypothesis is rejected.\n",
      "\n",
      "Critical value defines the minimum amount of evedince needed to say: this result is unlikely to be random.\n",
      "\n",
      "Critical value sets the cutoff and z-score must be more extreme to show statistical evidence that a real difference exists.\n"
     ]
    }
   ],
   "source": [
    "# Computing the standard error of the test\n",
    "SE = np.sqrt(pooled_variance)\n",
    "print(\"Standard Error is:                                  \", SE)\n",
    "\n",
    "# Computing the test statistics (z-score) of Z-test: how far apart these two groups are in standard error units, under the assumption that the null is true\n",
    "Test_stat = (p_exp - p_con)/SE\n",
    "print(\"Test Statistics (z_score) for 2-sample Z-test is:   \", Test_stat)\n",
    "\n",
    "# Critical value of the Z-test\n",
    "Z_crit = norm.ppf(1-alpha/2)\n",
    "print(\"Z-critical value from Standard Normal distribution: \", Z_crit)\n",
    "\n",
    "print(f'\\nThe critical value of {round(Z_crit, 2)}, sets the threshold for deciding wheter a result is statistically significant.')\n",
    "print(f'\\nIf the z_score (test score) goes beyond that line, the result is unlikely to have happened by chance: the null hypothesis is rejected.')\n",
    "print('\\nCritical value defines the minimum amount of evedince needed to say: this result is unlikely to be random.')\n",
    "print('\\nCritical value sets the cutoff and z-score must be more extreme to show statistical evidence that a real difference exists.')"
   ]
  },
  {
   "cell_type": "markdown",
   "id": "43ef928c",
   "metadata": {},
   "source": [
    "# p_value of the Z-test\n",
    "\n",
    "### <span style='color:red'> **p-value**: If there were no real difference, what's the probability I'd see a difference this big or bigger just by chance? </span>\n",
    "\n",
    "- A low **p-value** (p ≤ 0.05 at 5% significance level) indicates strong evidence against the null hypothesis, so we reject the null hypothesis.\n",
    "- A high **p-value** (p > 0.05) indicates weak evidence against the null hypothesis, so we fail to reject the null hypothesis."
   ]
  },
  {
   "cell_type": "code",
   "execution_count": 24,
   "id": "3b92f604",
   "metadata": {},
   "outputs": [
    {
     "name": "stdout",
     "output_type": "stream",
     "text": [
      "z-score: 59.44\n",
      "p-value: 0.00000000000000000000e+00\n"
     ]
    }
   ],
   "source": [
    "# Calculate two-tailed p-value\n",
    "p_value = 2 * (1 - norm.cdf(abs(Test_stat)))\n",
    "\n",
    "\n",
    "print(f\"z-score: {Test_stat:.2f}\")\n",
    "print(f\"p-value: {p_value:.20e}\")"
   ]
  },
  {
   "cell_type": "markdown",
   "id": "e42d545c",
   "metadata": {},
   "source": [
    "## Statistical Significance"
   ]
  },
  {
   "cell_type": "code",
   "execution_count": 26,
   "id": "7008a51f",
   "metadata": {},
   "outputs": [
    {
     "name": "stdout",
     "output_type": "stream",
     "text": [
      "P-value of the 2-sample Z-test: 0.0\n",
      "\n",
      "There is statistical significance, indicating that the observed differences between the groups are unlikely to have occurred by chance alone.\n",
      "This suggests that the changes in the experimental group have a real effect compared to the control group.\n"
     ]
    }
   ],
   "source": [
    "# function checking the statistical significance\n",
    "def is_statistical_significance(p_value, alpha):\n",
    "    \"\"\"\n",
    "    We assess whether there is statistical significance based on the p-value and alpha.\n",
    "\n",
    "    Arguments:\n",
    "    - p_value (float): The p-value resulting from a statistical test.\n",
    "    - alpha (float, optional): The significance level threshold used to determine statistical significance. Defaults to 0.05.\n",
    "\n",
    "    Returns:\n",
    "    - Prints the assessment of statistical significance.\n",
    "    \"\"\"\n",
    "\n",
    "    # Print the rounded p-value to 3 decimal places\n",
    "    print(f\"P-value of the 2-sample Z-test: {(p_value)}\")\n",
    "\n",
    "    # Determine statistical significance\n",
    "    if p_value <= alpha:\n",
    "        print(\"\\nThere is statistical significance, indicating that the observed differences between the groups are unlikely to have occurred by chance alone.\\nThis suggests that the changes in the experimental group have a real effect compared to the control group.\")\n",
    "    else:\n",
    "        print(\"\\nThere is no statistical significance, suggesting that the observed differences between the groups could have occurred by chance.\\nThis implies that the changes in the experimental group do not have a substantial effect compared to the control group.\")\n",
    "\n",
    "\n",
    "\n",
    "is_statistical_significance(p_value, alpha)"
   ]
  },
  {
   "cell_type": "code",
   "execution_count": 27,
   "id": "f8b38895",
   "metadata": {},
   "outputs": [
    {
     "name": "stdout",
     "output_type": "stream",
     "text": [
      "If the null hypothesis were true (i.e. theres is no real difference between the control and the experimental click rates),\n",
      "then the chance of observing a difference as large as  0.4127, or larger, purely due to random chance is essentially 0.0 \n"
     ]
    }
   ],
   "source": [
    "print(f'If the null hypothesis were true (i.e. theres is no real difference between the control and the experimental click rates),\\nthen the chance of observing a difference as large as  {(p_exp-p_con):.4f}, or larger, purely due to random chance is essentially {p_value} ')"
   ]
  },
  {
   "cell_type": "markdown",
   "id": "65824bfe",
   "metadata": {},
   "source": [
    "## Confidence Interval (**CI**)"
   ]
  },
  {
   "cell_type": "code",
   "execution_count": 29,
   "id": "8dee0d2c",
   "metadata": {},
   "outputs": [
    {
     "name": "stdout",
     "output_type": "stream",
     "text": [
      "We are 95% confident that the true increase in click is between: 0.399 and 0.426 →  39.909% and 42.631%\n"
     ]
    }
   ],
   "source": [
    "difference_prob = p_exp - p_con\n",
    "\n",
    "CI_95 = [(difference_prob - Z_crit * SE), (difference_prob + Z_crit * SE)]\n",
    "print(f'We are 95% confident that the true increase in click is between: {CI_95[0]:.3f} and {CI_95[1]:.3f} →  {CI_95[0]*100:.3f}% and {CI_95[1]*100:.3f}%')"
   ]
  },
  {
   "cell_type": "markdown",
   "id": "7ce10fdf",
   "metadata": {},
   "source": [
    "## Practical Significance"
   ]
  },
  {
   "cell_type": "code",
   "execution_count": 30,
   "id": "294d577a",
   "metadata": {},
   "outputs": [],
   "source": [
    "def is_practically_significant(delta, CI_95):\n",
    "    \"\"\"\n",
    "    Assess whether the difference between Control and Experimental group is practically significant\n",
    "    using the Minimum Detectable Effect (MDE).\n",
    "\n",
    "    Parameters:\n",
    "    - delta (float): The Minimum Detectable Effect (MDE) threshold.\n",
    "    - CI_95 (tuple): A tuple representing the lower and upper bounds of the 95% Confidence Interval.\n",
    "\n",
    "    Returns:\n",
    "    - bool: True if practically significant, False otherwise.\n",
    "    \"\"\"\n",
    "    lower_bound_CI = CI_95[0]\n",
    "\n",
    "    if lower_bound_CI >= delta:\n",
    "        print(f\"✅ We have practical significance!\\nThe lower bound of the 95% CI ({lower_bound_CI:.4f}) exceeds the MDE ({delta}).\")\n",
    "        return True\n",
    "    else:\n",
    "        print(f\"❌ Not practically significant.\\nThe lower bound of the 95% CI ({lower_bound_CI:.4f}) is less than the MDE ({delta}).\")\n",
    "        return False"
   ]
  },
  {
   "cell_type": "code",
   "execution_count": 33,
   "id": "3d9a9020",
   "metadata": {},
   "outputs": [
    {
     "name": "stdout",
     "output_type": "stream",
     "text": [
      "Lower bound of 95% confidence interval is: 0.3991\n",
      "✅ We have practical significance!\n",
      "The lower bound of the 95% CI (0.3991) exceeds the MDE (0.1).\n"
     ]
    }
   ],
   "source": [
    "print(f\"Lower bound of 95% confidence interval is: { CI_95[0]:.4f}\")\n",
    "significance = is_practically_significant(delta, CI_95)"
   ]
  },
  {
   "cell_type": "code",
   "execution_count": null,
   "id": "d7324ca1",
   "metadata": {},
   "outputs": [],
   "source": []
  }
 ],
 "metadata": {
  "kernelspec": {
   "display_name": "Python 3",
   "language": "python",
   "name": "python3"
  },
  "language_info": {
   "codemirror_mode": {
    "name": "ipython",
    "version": 3
   },
   "file_extension": ".py",
   "mimetype": "text/x-python",
   "name": "python",
   "nbconvert_exporter": "python",
   "pygments_lexer": "ipython3",
   "version": "3.13.7"
  }
 },
 "nbformat": 4,
 "nbformat_minor": 5
}
